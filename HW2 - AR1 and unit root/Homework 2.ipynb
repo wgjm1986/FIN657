{
 "cells": [
  {
   "cell_type": "markdown",
   "id": "d5b8c5dd",
   "metadata": {},
   "source": [
    "# Homework 2"
   ]
  },
  {
   "cell_type": "markdown",
   "id": "604a8698",
   "metadata": {},
   "source": [
    "## Import packages and data"
   ]
  },
  {
   "cell_type": "markdown",
   "id": "91c39277",
   "metadata": {},
   "source": [
    "Import necessary packages."
   ]
  },
  {
   "cell_type": "code",
   "execution_count": 1,
   "id": "f855d556",
   "metadata": {},
   "outputs": [],
   "source": [
    "import pandas as pd\n",
    "pd.options.mode.chained_assignment = None  # default='warn'\n",
    "import numpy as np\n",
    "import math\n",
    "\n",
    "import wrds\n",
    "import fredapi\n",
    "\n",
    "from statsmodels.tsa.stattools import adfuller, kpss\n",
    "from statsmodels.formula.api import ols\n",
    "from statsmodels.graphics.tsaplots import plot_acf, plot_pacf\n",
    "\n",
    "from matplotlib import pyplot as plt"
   ]
  },
  {
   "cell_type": "markdown",
   "id": "e6cc9cbc",
   "metadata": {},
   "source": [
    "Import data from WRDS: S&P 500 returns, dividends, levels."
   ]
  },
  {
   "cell_type": "code",
   "execution_count": 2,
   "id": "5ce3cf0b",
   "metadata": {},
   "outputs": [
    {
     "name": "stdout",
     "output_type": "stream",
     "text": [
      "Loading library list...\n",
      "Done\n"
     ]
    }
   ],
   "source": [
    "wrds_conn = wrds.Connection(wrds_username='wmann')\n",
    "data = wrds_conn.raw_sql(\"select caldt, vwretd, vwretx, spindx, totval from crsp_a_indexes.msp500\")\n",
    "wrds_conn.close() \n",
    "\n",
    "data['month'] = pd.to_datetime(data['caldt']).dt.to_period('M')\n",
    "data = data.set_index(['month']).drop('caldt',axis=1)\n",
    "\n",
    "# Calculate S&P 500 dividends as the difference between monthly return with and without dividends.\n",
    "data['dividends_mth'] = ( data['vwretd'] - data['vwretx'] )*data['spindx'].shift()\n",
    "\n",
    "# Aggregate dataset to quarterly level.\n",
    "dataq = data.reset_index()\n",
    "dataq['quarter'] = dataq['month'].dt.to_timestamp().dt.to_period('Q')\n",
    "dataq = dataq.set_index('quarter')\n",
    "dataq['dividends_qtr'] = dataq.groupby(level=0)['dividends_mth'].sum()\n",
    "dataq = dataq.groupby(level=0).last()\n",
    "\n",
    "# dataq = dataq['1926Q1':]\n",
    "dataq = dataq['2000':]"
   ]
  },
  {
   "cell_type": "markdown",
   "id": "6ac35623",
   "metadata": {},
   "source": [
    "Calculate the series that we will actually use in the analysis"
   ]
  },
  {
   "cell_type": "code",
   "execution_count": 3,
   "id": "ea629913",
   "metadata": {},
   "outputs": [],
   "source": [
    "log_spindx = np.log(dataq['spindx'])\n",
    "log_spindx_growth = log_spindx.diff().dropna()\n",
    "\n",
    "log_dividends = np.log(dataq['dividends_qtr'])\n",
    "log_dividends_growth = log_dividends.diff().dropna()\n",
    "\n",
    "log_DP = np.log(dataq['dividends_qtr']/dataq['spindx'])"
   ]
  },
  {
   "cell_type": "markdown",
   "id": "95062e29",
   "metadata": {},
   "source": [
    "## Assignment"
   ]
  },
  {
   "cell_type": "markdown",
   "id": "cf71a195",
   "metadata": {},
   "source": [
    "The code above calculates five different series, at a quarterly frequency, from 2000 to the present:\n",
    "1. The S&P 500 index level, measured as a logarithm.\n",
    "2. The change in the above value (that is, the percentage increase in the S&P 500 index).\n",
    "3. The dividends paid by S&P 500 stocks, as a logarithm.\n",
    "4. The change in the above value (that is, the percentage growth of S&P 500 dividend payments).\n",
    "5. The S&P 500 dividend yield (dividends as a fraction of index value), as a logarithm.\n",
    "\n",
    "For each of the above series, plot them, and then conduct an ADF test and a KPSS test (allowing statsmodels to choose the optimal number of lags). What, if anything, do these tests tell you about whether it is appropriate to model the series as stationary?\n",
    "\n",
    "Finally, for the last ADF test that you ran (on the dividend yield), show how the test statistic from this test can be located in the output from a regression with the statsmodels summary() command. Then explain why the p-value from the test is *not* located anywhere in the same regression output."
   ]
  }
 ],
 "metadata": {
  "kernelspec": {
   "display_name": "Python FIN657",
   "language": "python",
   "name": "fin657"
  },
  "language_info": {
   "codemirror_mode": {
    "name": "ipython",
    "version": 3
   },
   "file_extension": ".py",
   "mimetype": "text/x-python",
   "name": "python",
   "nbconvert_exporter": "python",
   "pygments_lexer": "ipython3",
   "version": "3.12.3"
  }
 },
 "nbformat": 4,
 "nbformat_minor": 5
}
