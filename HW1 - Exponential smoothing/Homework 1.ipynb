{
 "cells": [
  {
   "cell_type": "markdown",
   "id": "f3a44e3a",
   "metadata": {},
   "source": [
    "# Exponential smoothing"
   ]
  },
  {
   "cell_type": "markdown",
   "id": "05a7471c",
   "metadata": {},
   "source": [
    "In this assignment you will revisit the payrolls data that we used last week in discussing moving-average smoothing.\n",
    "\n",
    "This time you will analyze this data and build forecasts using approaches based on *exponential* smoothing, as we discussed in class this week."
   ]
  },
  {
   "cell_type": "markdown",
   "id": "2c8bd8da",
   "metadata": {},
   "source": [
    "## Setup:"
   ]
  },
  {
   "cell_type": "markdown",
   "id": "cd70e347",
   "metadata": {},
   "source": [
    "#### Import packages"
   ]
  },
  {
   "cell_type": "code",
   "execution_count": 1,
   "id": "8dd8a492",
   "metadata": {},
   "outputs": [],
   "source": [
    "import fredapi\n",
    "import wrds\n",
    "import pandas as pd\n",
    "from statsmodels.formula.api import ols\n",
    "import numpy as np\n",
    "from matplotlib import pyplot as plt\n",
    "import math\n",
    "from scipy.optimize import minimize\n",
    "from statsmodels.tsa.seasonal import seasonal_decompose\n",
    "from statsmodels.tsa.holtwinters import SimpleExpSmoothing, Holt, ExponentialSmoothing"
   ]
  },
  {
   "cell_type": "markdown",
   "id": "385d2a27",
   "metadata": {},
   "source": [
    "#### Download data"
   ]
  },
  {
   "cell_type": "markdown",
   "id": "b5145d64",
   "metadata": {},
   "source": [
    "PAYEMS: Aggregate nonfarm payrolls, seasonally adjusted\n",
    "\n",
    "PAYNSA: Aggregate nonfarm payrolls, not seasonally adjusted"
   ]
  },
  {
   "cell_type": "code",
   "execution_count": 2,
   "id": "af72baf3",
   "metadata": {},
   "outputs": [
    {
     "ename": "ValueError",
     "evalue": "Bad Request.  The value for variable api_key is not a 32 character alpha-numeric lower-case string.  Read https://fred.stlouisfed.org/docs/api/api_key.html for more information.",
     "output_type": "error",
     "traceback": [
      "\u001b[0;31m---------------------------------------------------------------------------\u001b[0m",
      "\u001b[0;31mHTTPError\u001b[0m                                 Traceback (most recent call last)",
      "File \u001b[0;32m~/.venv/FIN657/lib/python3.12/site-packages/fredapi/fred.py:84\u001b[0m, in \u001b[0;36mFred.__fetch_data\u001b[0;34m(self, url)\u001b[0m\n\u001b[1;32m     83\u001b[0m \u001b[38;5;28;01mtry\u001b[39;00m:\n\u001b[0;32m---> 84\u001b[0m     response \u001b[38;5;241m=\u001b[39m \u001b[43murlopen\u001b[49m\u001b[43m(\u001b[49m\u001b[43murl\u001b[49m\u001b[43m)\u001b[49m\n\u001b[1;32m     85\u001b[0m     root \u001b[38;5;241m=\u001b[39m ET\u001b[38;5;241m.\u001b[39mfromstring(response\u001b[38;5;241m.\u001b[39mread())\n",
      "File \u001b[0;32m/usr/lib/python3.12/urllib/request.py:215\u001b[0m, in \u001b[0;36murlopen\u001b[0;34m(url, data, timeout, cafile, capath, cadefault, context)\u001b[0m\n\u001b[1;32m    214\u001b[0m     opener \u001b[38;5;241m=\u001b[39m _opener\n\u001b[0;32m--> 215\u001b[0m \u001b[38;5;28;01mreturn\u001b[39;00m \u001b[43mopener\u001b[49m\u001b[38;5;241;43m.\u001b[39;49m\u001b[43mopen\u001b[49m\u001b[43m(\u001b[49m\u001b[43murl\u001b[49m\u001b[43m,\u001b[49m\u001b[43m \u001b[49m\u001b[43mdata\u001b[49m\u001b[43m,\u001b[49m\u001b[43m \u001b[49m\u001b[43mtimeout\u001b[49m\u001b[43m)\u001b[49m\n",
      "File \u001b[0;32m/usr/lib/python3.12/urllib/request.py:521\u001b[0m, in \u001b[0;36mOpenerDirector.open\u001b[0;34m(self, fullurl, data, timeout)\u001b[0m\n\u001b[1;32m    520\u001b[0m     meth \u001b[38;5;241m=\u001b[39m \u001b[38;5;28mgetattr\u001b[39m(processor, meth_name)\n\u001b[0;32m--> 521\u001b[0m     response \u001b[38;5;241m=\u001b[39m \u001b[43mmeth\u001b[49m\u001b[43m(\u001b[49m\u001b[43mreq\u001b[49m\u001b[43m,\u001b[49m\u001b[43m \u001b[49m\u001b[43mresponse\u001b[49m\u001b[43m)\u001b[49m\n\u001b[1;32m    523\u001b[0m \u001b[38;5;28;01mreturn\u001b[39;00m response\n",
      "File \u001b[0;32m/usr/lib/python3.12/urllib/request.py:630\u001b[0m, in \u001b[0;36mHTTPErrorProcessor.http_response\u001b[0;34m(self, request, response)\u001b[0m\n\u001b[1;32m    629\u001b[0m \u001b[38;5;28;01mif\u001b[39;00m \u001b[38;5;129;01mnot\u001b[39;00m (\u001b[38;5;241m200\u001b[39m \u001b[38;5;241m<\u001b[39m\u001b[38;5;241m=\u001b[39m code \u001b[38;5;241m<\u001b[39m \u001b[38;5;241m300\u001b[39m):\n\u001b[0;32m--> 630\u001b[0m     response \u001b[38;5;241m=\u001b[39m \u001b[38;5;28;43mself\u001b[39;49m\u001b[38;5;241;43m.\u001b[39;49m\u001b[43mparent\u001b[49m\u001b[38;5;241;43m.\u001b[39;49m\u001b[43merror\u001b[49m\u001b[43m(\u001b[49m\n\u001b[1;32m    631\u001b[0m \u001b[43m        \u001b[49m\u001b[38;5;124;43m'\u001b[39;49m\u001b[38;5;124;43mhttp\u001b[39;49m\u001b[38;5;124;43m'\u001b[39;49m\u001b[43m,\u001b[49m\u001b[43m \u001b[49m\u001b[43mrequest\u001b[49m\u001b[43m,\u001b[49m\u001b[43m \u001b[49m\u001b[43mresponse\u001b[49m\u001b[43m,\u001b[49m\u001b[43m \u001b[49m\u001b[43mcode\u001b[49m\u001b[43m,\u001b[49m\u001b[43m \u001b[49m\u001b[43mmsg\u001b[49m\u001b[43m,\u001b[49m\u001b[43m \u001b[49m\u001b[43mhdrs\u001b[49m\u001b[43m)\u001b[49m\n\u001b[1;32m    633\u001b[0m \u001b[38;5;28;01mreturn\u001b[39;00m response\n",
      "File \u001b[0;32m/usr/lib/python3.12/urllib/request.py:559\u001b[0m, in \u001b[0;36mOpenerDirector.error\u001b[0;34m(self, proto, *args)\u001b[0m\n\u001b[1;32m    558\u001b[0m args \u001b[38;5;241m=\u001b[39m (\u001b[38;5;28mdict\u001b[39m, \u001b[38;5;124m'\u001b[39m\u001b[38;5;124mdefault\u001b[39m\u001b[38;5;124m'\u001b[39m, \u001b[38;5;124m'\u001b[39m\u001b[38;5;124mhttp_error_default\u001b[39m\u001b[38;5;124m'\u001b[39m) \u001b[38;5;241m+\u001b[39m orig_args\n\u001b[0;32m--> 559\u001b[0m \u001b[38;5;28;01mreturn\u001b[39;00m \u001b[38;5;28;43mself\u001b[39;49m\u001b[38;5;241;43m.\u001b[39;49m\u001b[43m_call_chain\u001b[49m\u001b[43m(\u001b[49m\u001b[38;5;241;43m*\u001b[39;49m\u001b[43margs\u001b[49m\u001b[43m)\u001b[49m\n",
      "File \u001b[0;32m/usr/lib/python3.12/urllib/request.py:492\u001b[0m, in \u001b[0;36mOpenerDirector._call_chain\u001b[0;34m(self, chain, kind, meth_name, *args)\u001b[0m\n\u001b[1;32m    491\u001b[0m func \u001b[38;5;241m=\u001b[39m \u001b[38;5;28mgetattr\u001b[39m(handler, meth_name)\n\u001b[0;32m--> 492\u001b[0m result \u001b[38;5;241m=\u001b[39m \u001b[43mfunc\u001b[49m\u001b[43m(\u001b[49m\u001b[38;5;241;43m*\u001b[39;49m\u001b[43margs\u001b[49m\u001b[43m)\u001b[49m\n\u001b[1;32m    493\u001b[0m \u001b[38;5;28;01mif\u001b[39;00m result \u001b[38;5;129;01mis\u001b[39;00m \u001b[38;5;129;01mnot\u001b[39;00m \u001b[38;5;28;01mNone\u001b[39;00m:\n",
      "File \u001b[0;32m/usr/lib/python3.12/urllib/request.py:639\u001b[0m, in \u001b[0;36mHTTPDefaultErrorHandler.http_error_default\u001b[0;34m(self, req, fp, code, msg, hdrs)\u001b[0m\n\u001b[1;32m    638\u001b[0m \u001b[38;5;28;01mdef\u001b[39;00m \u001b[38;5;21mhttp_error_default\u001b[39m(\u001b[38;5;28mself\u001b[39m, req, fp, code, msg, hdrs):\n\u001b[0;32m--> 639\u001b[0m     \u001b[38;5;28;01mraise\u001b[39;00m HTTPError(req\u001b[38;5;241m.\u001b[39mfull_url, code, msg, hdrs, fp)\n",
      "\u001b[0;31mHTTPError\u001b[0m: HTTP Error 400: Bad Request",
      "\nDuring handling of the above exception, another exception occurred:\n",
      "\u001b[0;31mValueError\u001b[0m                                Traceback (most recent call last)",
      "Cell \u001b[0;32mIn[2], line 2\u001b[0m\n\u001b[1;32m      1\u001b[0m Fred_API_key_string \u001b[38;5;241m=\u001b[39m \u001b[38;5;124m'\u001b[39m\u001b[38;5;124maasdjqop2jp98jfqp2\u001b[39m\u001b[38;5;124m'\u001b[39m\n\u001b[0;32m----> 2\u001b[0m PAYNSA  \u001b[38;5;241m=\u001b[39m \u001b[43mfredapi\u001b[49m\u001b[38;5;241;43m.\u001b[39;49m\u001b[43mFred\u001b[49m\u001b[43m(\u001b[49m\u001b[43mapi_key\u001b[49m\u001b[38;5;241;43m=\u001b[39;49m\u001b[43mFred_API_key_string\u001b[49m\u001b[43m)\u001b[49m\u001b[38;5;241;43m.\u001b[39;49m\u001b[43mget_series\u001b[49m\u001b[43m(\u001b[49m\u001b[38;5;124;43m'\u001b[39;49m\u001b[38;5;124;43mPAYNSA\u001b[39;49m\u001b[38;5;124;43m'\u001b[39;49m\u001b[43m,\u001b[49m\u001b[43m \u001b[49m\u001b[43mobservation_start\u001b[49m\u001b[43m \u001b[49m\u001b[38;5;241;43m=\u001b[39;49m\u001b[43m \u001b[49m\u001b[38;5;124;43m'\u001b[39;49m\u001b[38;5;124;43m2020-04-01\u001b[39;49m\u001b[38;5;124;43m'\u001b[39;49m\u001b[43m,\u001b[49m\u001b[43m \u001b[49m\u001b[43mobservation_end\u001b[49m\u001b[43m \u001b[49m\u001b[38;5;241;43m=\u001b[39;49m\u001b[43m \u001b[49m\u001b[38;5;124;43m'\u001b[39;49m\u001b[38;5;124;43m2023-12-31\u001b[39;49m\u001b[38;5;124;43m'\u001b[39;49m\u001b[43m,\u001b[49m\u001b[43m \u001b[49m\u001b[43mfrequency\u001b[49m\u001b[38;5;241;43m=\u001b[39;49m\u001b[38;5;124;43m'\u001b[39;49m\u001b[38;5;124;43mm\u001b[39;49m\u001b[38;5;124;43m'\u001b[39;49m\u001b[43m,\u001b[49m\u001b[43m \u001b[49m\u001b[43maggregation_method\u001b[49m\u001b[38;5;241;43m=\u001b[39;49m\u001b[38;5;124;43m'\u001b[39;49m\u001b[38;5;124;43meop\u001b[39;49m\u001b[38;5;124;43m'\u001b[39;49m\u001b[43m)\u001b[49m \u001b[38;5;241m/\u001b[39m \u001b[38;5;241m1000\u001b[39m\n\u001b[1;32m      3\u001b[0m PAYNSA\u001b[38;5;241m.\u001b[39mindex \u001b[38;5;241m=\u001b[39m pd\u001b[38;5;241m.\u001b[39mDatetimeIndex(PAYNSA\u001b[38;5;241m.\u001b[39mindex\u001b[38;5;241m.\u001b[39mvalues,freq\u001b[38;5;241m=\u001b[39m\u001b[38;5;124m'\u001b[39m\u001b[38;5;124mMS\u001b[39m\u001b[38;5;124m'\u001b[39m)\n\u001b[1;32m      4\u001b[0m PAYEMS  \u001b[38;5;241m=\u001b[39m fredapi\u001b[38;5;241m.\u001b[39mFred(api_key\u001b[38;5;241m=\u001b[39mFred_API_key_string)\u001b[38;5;241m.\u001b[39mget_series(\u001b[38;5;124m'\u001b[39m\u001b[38;5;124mPAYEMS\u001b[39m\u001b[38;5;124m'\u001b[39m, observation_start \u001b[38;5;241m=\u001b[39m \u001b[38;5;124m'\u001b[39m\u001b[38;5;124m2020-04-01\u001b[39m\u001b[38;5;124m'\u001b[39m, observation_end \u001b[38;5;241m=\u001b[39m \u001b[38;5;124m'\u001b[39m\u001b[38;5;124m2023-12-31\u001b[39m\u001b[38;5;124m'\u001b[39m, frequency\u001b[38;5;241m=\u001b[39m\u001b[38;5;124m'\u001b[39m\u001b[38;5;124mm\u001b[39m\u001b[38;5;124m'\u001b[39m, aggregation_method\u001b[38;5;241m=\u001b[39m\u001b[38;5;124m'\u001b[39m\u001b[38;5;124meop\u001b[39m\u001b[38;5;124m'\u001b[39m) \u001b[38;5;241m/\u001b[39m \u001b[38;5;241m1000\u001b[39m\n",
      "File \u001b[0;32m~/.venv/FIN657/lib/python3.12/site-packages/fredapi/fred.py:151\u001b[0m, in \u001b[0;36mFred.get_series\u001b[0;34m(self, series_id, observation_start, observation_end, **kwargs)\u001b[0m\n\u001b[1;32m    149\u001b[0m \u001b[38;5;28;01mif\u001b[39;00m kwargs\u001b[38;5;241m.\u001b[39mkeys():\n\u001b[1;32m    150\u001b[0m     url \u001b[38;5;241m+\u001b[39m\u001b[38;5;241m=\u001b[39m \u001b[38;5;124m'\u001b[39m\u001b[38;5;124m&\u001b[39m\u001b[38;5;124m'\u001b[39m \u001b[38;5;241m+\u001b[39m urlencode(kwargs)\n\u001b[0;32m--> 151\u001b[0m root \u001b[38;5;241m=\u001b[39m \u001b[38;5;28;43mself\u001b[39;49m\u001b[38;5;241;43m.\u001b[39;49m\u001b[43m__fetch_data\u001b[49m\u001b[43m(\u001b[49m\u001b[43murl\u001b[49m\u001b[43m)\u001b[49m\n\u001b[1;32m    152\u001b[0m \u001b[38;5;28;01mif\u001b[39;00m root \u001b[38;5;129;01mis\u001b[39;00m \u001b[38;5;28;01mNone\u001b[39;00m:\n\u001b[1;32m    153\u001b[0m     \u001b[38;5;28;01mraise\u001b[39;00m \u001b[38;5;167;01mValueError\u001b[39;00m(\u001b[38;5;124m'\u001b[39m\u001b[38;5;124mNo data exists for series id: \u001b[39m\u001b[38;5;124m'\u001b[39m \u001b[38;5;241m+\u001b[39m series_id)\n",
      "File \u001b[0;32m~/.venv/FIN657/lib/python3.12/site-packages/fredapi/fred.py:88\u001b[0m, in \u001b[0;36mFred.__fetch_data\u001b[0;34m(self, url)\u001b[0m\n\u001b[1;32m     86\u001b[0m \u001b[38;5;28;01mexcept\u001b[39;00m HTTPError \u001b[38;5;28;01mas\u001b[39;00m exc:\n\u001b[1;32m     87\u001b[0m     root \u001b[38;5;241m=\u001b[39m ET\u001b[38;5;241m.\u001b[39mfromstring(exc\u001b[38;5;241m.\u001b[39mread())\n\u001b[0;32m---> 88\u001b[0m     \u001b[38;5;28;01mraise\u001b[39;00m \u001b[38;5;167;01mValueError\u001b[39;00m(root\u001b[38;5;241m.\u001b[39mget(\u001b[38;5;124m'\u001b[39m\u001b[38;5;124mmessage\u001b[39m\u001b[38;5;124m'\u001b[39m))\n\u001b[1;32m     89\u001b[0m \u001b[38;5;28;01mreturn\u001b[39;00m root\n",
      "\u001b[0;31mValueError\u001b[0m: Bad Request.  The value for variable api_key is not a 32 character alpha-numeric lower-case string.  Read https://fred.stlouisfed.org/docs/api/api_key.html for more information."
     ]
    }
   ],
   "source": [
    "Fred_API_key_string = 'aasdjqop2jp98jfqp2'\n",
    "PAYNSA  = fredapi.Fred(api_key=Fred_API_key_string).get_series('PAYNSA', observation_start = '2020-04-01', observation_end = '2023-12-31', frequency='m', aggregation_method='eop') / 1000\n",
    "PAYNSA.index = pd.DatetimeIndex(PAYNSA.index.values,freq='MS')\n",
    "PAYEMS  = fredapi.Fred(api_key=Fred_API_key_string).get_series('PAYEMS', observation_start = '2020-04-01', observation_end = '2023-12-31', frequency='m', aggregation_method='eop') / 1000\n",
    "PAYEMS.index = pd.DatetimeIndex(PAYEMS.index.values,freq='MS')"
   ]
  },
  {
   "cell_type": "markdown",
   "id": "1ef03f93",
   "metadata": {},
   "source": [
    "#### Visualize raw data"
   ]
  },
  {
   "cell_type": "code",
   "execution_count": null,
   "id": "b4d6284a",
   "metadata": {},
   "outputs": [],
   "source": [
    "PAYEMS.plot(legend=True,label=\"Payrolls - seasonally-adjusted\");\n",
    "PAYNSA.plot(legend=True,label=\"Payrolls - non-seasonally-adjusted\");"
   ]
  },
  {
   "cell_type": "markdown",
   "id": "eb5c7bcb",
   "metadata": {},
   "source": [
    "## Assignment:"
   ]
  },
  {
   "cell_type": "markdown",
   "id": "2807ddae",
   "metadata": {},
   "source": [
    "### Question 1:\n",
    "\n",
    "Using statsmodels, fit a simple exponential smoothing algorithm to the seasonally-adjusted series. Print the estimated smoothing parameter $\\alpha$ as well as the sum of squared errors (SSE). Plot the fitted values against the actual data. How do each of these results tell you that the SES algorithm is *not* a good one to use in forecasting this series?"
   ]
  },
  {
   "cell_type": "markdown",
   "id": "dcd5328e",
   "metadata": {},
   "source": [
    "### Question 2:\n",
    "\n",
    "Using statsmodels, fit a *double* exponential smoothing algorithm to the seasonally-adjusted series. Print the estimated smoothing parameters $\\alpha$ and $\\beta$, as well as the sum of squared errors (SSE). Plot the fitted values against the actual data. Compared with the results from question 1, what makes us more comfortable using this algorithm to forecast this series? Plot a forecast of this series for the next 12 months."
   ]
  },
  {
   "cell_type": "markdown",
   "id": "3507afe2",
   "metadata": {},
   "source": [
    "### Question 3:\n",
    "\n",
    "Using statsmodels, fit a double exponential smoothing algorithm to the *non*-seasonally-adjusted series. Print the estimated smoothing parameters $\\alpha$ and $\\beta$, as well as the sum of squared errors (SSE). Plot the fitted values against the actual data. Why should we *not* be comfortable using this algorithm to forecast the series?"
   ]
  },
  {
   "cell_type": "markdown",
   "id": "5500c4e0",
   "metadata": {},
   "source": [
    "### Question 4:\n",
    "\n",
    "Using statsmodels, fit a *triple* exponential smoothing algorithm (a.k.a. Holt-Winters) to the non-seasonally-adjusted series. Print the estimated smoothing parameters $\\alpha$, $\\beta$, and $\\delta$, as well as the sum of squared errors (SSE). Plot the fitted values against the actual data. Compared with the results from question 3, what makes us more comfortable using this algorithm to forecast the series? Plot a forecast of htis series for the next 12 months."
   ]
  }
 ],
 "metadata": {
  "kernelspec": {
   "display_name": "Python FIN657",
   "language": "python",
   "name": "fin657"
  },
  "language_info": {
   "codemirror_mode": {
    "name": "ipython",
    "version": 3
   },
   "file_extension": ".py",
   "mimetype": "text/x-python",
   "name": "python",
   "nbconvert_exporter": "python",
   "pygments_lexer": "ipython3",
   "version": "3.12.3"
  }
 },
 "nbformat": 4,
 "nbformat_minor": 5
}
